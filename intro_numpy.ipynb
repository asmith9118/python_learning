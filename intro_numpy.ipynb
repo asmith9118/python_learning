{
 "cells": [
  {
   "cell_type": "markdown",
   "metadata": {},
   "source": [
    "#Information on data in python that may be useful: \n",
    "Users of Python are often drawn-in by its ease of use, one piece of which is dynamic typing. While a statically-typed language like C or Java requires each variable to be explicitly declared, a dynamically-typed language like Python skips this specification. \n",
    "\n",
    "The standard Python implementation is written in C. This means that every Python object is simply a cleverly-disguised C structure, which contains not only its value, but other information as well.\n",
    "\n",
    "Because of Python's dynamic typing, we can even create heterogeneous lists, but this flexibility comes at a cost: to allow these flexible types, each item in the list must contain its own type info, reference count, and other information–that is, each item is a complete Python object. "
   ]
  },
  {
   "cell_type": "code",
   "execution_count": 1,
   "metadata": {},
   "outputs": [
    {
     "data": {
      "text/plain": [
       "array([[2, 3, 4],\n",
       "       [5, 6, 7],\n",
       "       [6, 7, 8]])"
      ]
     },
     "execution_count": 1,
     "metadata": {},
     "output_type": "execute_result"
    }
   ],
   "source": [
    "import numpy as np \n",
    "\n",
    "#integer array\n",
    "np.array([1,4,2,5,3])\n",
    "\n",
    "#set data type of array\n",
    "np.array([1,2,3,4,5], dtype='float32')\n",
    "\n",
    "#Unlike python lists, NumPy arrays can be mulit-dimensional\n",
    "#Initialize mulit-dimensional array - in the list [2,5,6] each number in that list is the start of \n",
    "np.array([range(i, i+3) for i in [2,5,6]])\n"
   ]
  },
  {
   "cell_type": "code",
   "execution_count": null,
   "metadata": {},
   "outputs": [],
   "source": [
    "#More efficient to create arrays from scratch using NumPy functions\n",
    "\n",
    "#create 3x5 floating-point array filled with ones\n",
    "np.ones((3,5), dtype=float)\n",
    "\n"
   ]
  }
 ],
 "metadata": {
  "kernelspec": {
   "display_name": "Python 3",
   "language": "python",
   "name": "python3"
  },
  "language_info": {
   "codemirror_mode": {
    "name": "ipython",
    "version": 3
   },
   "file_extension": ".py",
   "mimetype": "text/x-python",
   "name": "python",
   "nbconvert_exporter": "python",
   "pygments_lexer": "ipython3",
   "version": "3.12.3"
  }
 },
 "nbformat": 4,
 "nbformat_minor": 2
}
