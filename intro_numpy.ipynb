{
 "cells": [
  {
   "cell_type": "markdown",
   "metadata": {},
   "source": [
    "Information on data in python that may be useful: \n",
    "Users of Python are often drawn-in by its ease of use, one piece of which is dynamic typing. While a statically-typed language like C or Java requires each variable to be explicitly declared, a dynamically-typed language like Python skips this specification. \n",
    "\n",
    "The standard Python implementation is written in C. This means that every Python object is simply a cleverly-disguised C structure, which contains not only its value, but other information as well.\n",
    "\n",
    "Because of Python's dynamic typing, we can even create heterogeneous lists, but this flexibility comes at a cost: to allow these flexible types, each item in the list must contain its own type info, reference count, and other information–that is, each item is a complete Python object. "
   ]
  },
  {
   "cell_type": "code",
   "execution_count": 28,
   "metadata": {},
   "outputs": [
    {
     "data": {
      "text/plain": [
       "array([[2, 3, 4],\n",
       "       [5, 6, 7],\n",
       "       [6, 7, 8]])"
      ]
     },
     "execution_count": 28,
     "metadata": {},
     "output_type": "execute_result"
    }
   ],
   "source": [
    "import numpy as np \n",
    "\n",
    "#integer array\n",
    "np.array([1,4,2,5,3])\n",
    "\n",
    "#set data type of array\n",
    "np.array([1,2,3,4,5], dtype='float32')\n",
    "\n",
    "#Unlike python lists, NumPy arrays can be mulit-dimensional\n",
    "#Initialize mulit-dimensional array - in the list [2,5,6] each number in that list is the start of \n",
    "np.array([range(i, i+3) for i in [2,5,6]])\n"
   ]
  },
  {
   "cell_type": "code",
   "execution_count": 29,
   "metadata": {},
   "outputs": [
    {
     "data": {
      "text/plain": [
       "array([[9, 9, 8],\n",
       "       [9, 3, 9],\n",
       "       [1, 5, 9]])"
      ]
     },
     "execution_count": 29,
     "metadata": {},
     "output_type": "execute_result"
    }
   ],
   "source": [
    "#More efficient to create arrays from scratch using NumPy functions\n",
    "\n",
    "#create 3x5 floating-point array filled with ones\n",
    "np.ones((3,5), dtype=float)\n",
    "\n",
    "#create a length-10 integer array filled with zeros\n",
    "np.zeros(10, dtype=int)\n",
    "\n",
    "#create 3x5 array filled with 3.14\n",
    "np.full((3,5), 3.14)\n",
    "\n",
    "# Create an array filled with a linear sequence\n",
    "# Starting at 0, ending at 20, stepping by 2\n",
    "# (this is similar to the built-in range() function)\n",
    "np.arange(0, 20, 2)\n",
    "\n",
    "# Create an array of five values evenly spaced between 0 and 1\n",
    "np.linspace(0, 1, 5)\n",
    "\n",
    "# Create a 3x3 array of uniformly distributed\n",
    "# random values between 0 and 1\n",
    "np.random.random((3, 3))\n",
    "\n",
    "# Create a 3x3 array of normally distributed random values\n",
    "# with mean 0 and standard deviation 1\n",
    "np.random.normal(0, 1, (3, 3))\n",
    "\n",
    "# Create a 3x3 array of random integers in the interval [0, 10)\n",
    "np.random.randint(0, 10, (3, 3))"
   ]
  },
  {
   "cell_type": "markdown",
   "metadata": {},
   "source": [
    "Array Attributes\n",
    "Attributes of arrays: Determining the size, shape, memory consumption, and data types of arrays\n",
    "Indexing of arrays: Getting and setting the value of individual array elements\n",
    "Slicing of arrays: Getting and setting smaller subarrays within a larger array\n",
    "Reshaping of arrays: Changing the shape of a given array\n",
    "Joining and splitting of arrays: Combining multiple arrays into one, and splitting one array into many"
   ]
  },
  {
   "cell_type": "code",
   "execution_count": 32,
   "metadata": {},
   "outputs": [
    {
     "data": {
      "text/plain": [
       "(3, 4)"
      ]
     },
     "execution_count": 32,
     "metadata": {},
     "output_type": "execute_result"
    }
   ],
   "source": [
    "#Define three random arrays: one-dimensional, two-dimensional, three-dimemnsional\n",
    "\n",
    "import numpy as np \n",
    "\n",
    "np.random.seed\n",
    "\n",
    "#1D\n",
    "x1 = np.random.randint(10)\n",
    "#2D\n",
    "x2 = np.random.randint(0, 10, (3, 4))\n",
    "#3D\n",
    "x3 = np.random.randint(0, 10, (3, 4, 5))\n",
    "\n",
    "#each array has attributes ndim (number of dimensionos), shape (size of each dimension), and size(total size of the array)\n",
    "x2.shape\n",
    "\n",
    "#itemsize lists the size (in bytes) of each array element, and nbytes which lists the total size (in bytes) of the array \n",
    "#array indexing: array[i] = array([i0, i1, i2,...])\n",
    "#negative indexing can be used to index from the end of the array\n",
    "x1[-2]\n",
    "\n",
    "#array slicing: \n",
    "#x[start:stop:step], default to the alues start=0, stop=size oof dimension, step=1\n",
    "\n"
   ]
  }
 ],
 "metadata": {
  "kernelspec": {
   "display_name": "Python 3",
   "language": "python",
   "name": "python3"
  },
  "language_info": {
   "codemirror_mode": {
    "name": "ipython",
    "version": 3
   },
   "file_extension": ".py",
   "mimetype": "text/x-python",
   "name": "python",
   "nbconvert_exporter": "python",
   "pygments_lexer": "ipython3",
   "version": "3.12.3"
  }
 },
 "nbformat": 4,
 "nbformat_minor": 2
}
