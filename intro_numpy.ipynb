{
 "cells": [
  {
   "cell_type": "markdown",
   "metadata": {},
   "source": [
    "Information on data in python that may be useful: \n",
    "Users of Python are often drawn-in by its ease of use, one piece of which is dynamic typing. While a statically-typed language like C or Java requires each variable to be explicitly declared, a dynamically-typed language like Python skips this specification. \n",
    "\n",
    "The standard Python implementation is written in C. This means that every Python object is simply a cleverly-disguised C structure, which contains not only its value, but other information as well.\n",
    "\n",
    "Because of Python's dynamic typing, we can even create heterogeneous lists, but this flexibility comes at a cost: to allow these flexible types, each item in the list must contain its own type info, reference count, and other information–that is, each item is a complete Python object. "
   ]
  },
  {
   "cell_type": "code",
   "execution_count": 28,
   "metadata": {},
   "outputs": [
    {
     "data": {
      "text/plain": [
       "array([[2, 3, 4],\n",
       "       [5, 6, 7],\n",
       "       [6, 7, 8]])"
      ]
     },
     "execution_count": 28,
     "metadata": {},
     "output_type": "execute_result"
    }
   ],
   "source": [
    "import numpy as np \n",
    "\n",
    "#integer array\n",
    "np.array([1,4,2,5,3])\n",
    "\n",
    "#set data type of array\n",
    "np.array([1,2,3,4,5], dtype='float32')\n",
    "\n",
    "#Unlike python lists, NumPy arrays can be mulit-dimensional\n",
    "#Initialize mulit-dimensional array - in the list [2,5,6] each number in that list is the start of \n",
    "np.array([range(i, i+3) for i in [2,5,6]])\n"
   ]
  },
  {
   "cell_type": "code",
   "execution_count": 29,
   "metadata": {},
   "outputs": [
    {
     "data": {
      "text/plain": [
       "array([[9, 9, 8],\n",
       "       [9, 3, 9],\n",
       "       [1, 5, 9]])"
      ]
     },
     "execution_count": 29,
     "metadata": {},
     "output_type": "execute_result"
    }
   ],
   "source": [
    "#More efficient to create arrays from scratch using NumPy functions\n",
    "\n",
    "#create 3x5 floating-point array filled with ones\n",
    "np.ones((3,5), dtype=float)\n",
    "\n",
    "#create a length-10 integer array filled with zeros\n",
    "np.zeros(10, dtype=int)\n",
    "\n",
    "#create 3x5 array filled with 3.14\n",
    "np.full((3,5), 3.14)\n",
    "\n",
    "# Create an array filled with a linear sequence\n",
    "# Starting at 0, ending at 20, stepping by 2\n",
    "# (this is similar to the built-in range() function)\n",
    "np.arange(0, 20, 2)\n",
    "\n",
    "# Create an array of five values evenly spaced between 0 and 1\n",
    "np.linspace(0, 1, 5)\n",
    "\n",
    "# Create a 3x3 array of uniformly distributed\n",
    "# random values between 0 and 1\n",
    "np.random.random((3, 3))\n",
    "\n",
    "# Create a 3x3 array of normally distributed random values\n",
    "# with mean 0 and standard deviation 1\n",
    "np.random.normal(0, 1, (3, 3))\n",
    "\n",
    "# Create a 3x3 array of random integers in the interval [0, 10)\n",
    "np.random.randint(0, 10, (3, 3))"
   ]
  },
  {
   "cell_type": "markdown",
   "metadata": {},
   "source": [
    "Array Attributes\n",
    "Attributes of arrays: Determining the size, shape, memory consumption, and data types of arrays\n",
    "Indexing of arrays: Getting and setting the value of individual array elements\n",
    "Slicing of arrays: Getting and setting smaller subarrays within a larger array\n",
    "Reshaping of arrays: Changing the shape of a given array\n",
    "Joining and splitting of arrays: Combining multiple arrays into one, and splitting one array into many"
   ]
  },
  {
   "cell_type": "code",
   "execution_count": 32,
   "metadata": {},
   "outputs": [
    {
     "data": {
      "text/plain": [
       "(3, 4)"
      ]
     },
     "execution_count": 32,
     "metadata": {},
     "output_type": "execute_result"
    }
   ],
   "source": [
    "#Define three random arrays: one-dimensional, two-dimensional, three-dimemnsional\n",
    "\n",
    "import numpy as np \n",
    "\n",
    "np.random.seed\n",
    "\n",
    "x1 = np.random.randint(10) #1D\n",
    "x2 = np.random.randint(0, 10, (3, 4)) #2D\n",
    "x3 = np.random.randint(0, 10, (3, 4, 5)) #3D\n",
    "\n",
    "#each array has attributes\n",
    "x2.shape #size of each dimension\n",
    "x2.ndim #number of dimensions \n",
    "x2.size #total size of array \n",
    "\n",
    "#itemsize lists the size (in bytes) of each array element, and nbytes which lists the total size (in bytes) of the array \n",
    "#array indexing: array[i] = array([i0, i1, i2,...])\n",
    "#negative indexing can be used to index from the end of the array\n",
    "x1[-2]\n",
    "\n",
    "#array slicing: \n",
    "#x[start:stop:step], default to the alues start=0, stop=size oof dimension, step=1\n",
    "x1[:3] #first three elements\n",
    "x1[3:] #elements after index 3\n",
    "x1[1:4] #middle subarray\n",
    "x1[::2] #every second element\n",
    "x1[1::2] #every second element, starting at index 1\n",
    "x1[::-1] #all elements, reversed\n",
    "x1[4::-2] #every second element from index 4, reversed\n",
    "\n",
    "#multidimensional subarrays\n",
    "x2[:2, :3] #first two rows & three columns\n",
    "x2[:3, ::2] #three rows, every second column\n",
    "x2[::-1, ::-1] #all rows and columns, reversed \n",
    "\n",
    "#accessing single rows or columns of an array via combining indexing and slicing \n",
    "x2[:, 0] #first column of x2\n",
    "x2[, 0] #DOES NOT WORK, only works for the case of rows \n",
    "x2[0] # shorthand for x2[0, :]\n",
    "\n",
    "#NumPy arrays support the concept of views, which are alternative array representations that share the same data buffer with the original array. These views do not create a new copy of the data but provide a different way to access and manipulate the underlying data.\n",
    "\n",
    "#If we modify subarrays created from a view, the original data will change\n",
    "\n",
    "In [55]: x2\n",
    "Out[55]:\n",
    "array([[1, 7, 7, 0],\n",
    "       [0, 1, 0, 9],\n",
    "       [6, 8, 4, 3]])\n",
    "\n",
    "In [56]: x2_sub = x2[:2, :2]\n",
    "\n",
    "In [57]: x2_sub\n",
    "Out[57]:\n",
    "array([[1, 7],\n",
    "       [0, 1]])\n",
    "\n",
    "In [58]: x2_sub[0, 0] = 0\n",
    "\n",
    "In [59]: x2\n",
    "Out[59]:\n",
    "array([[0, 7, 7, 0],\n",
    "       [0, 1, 0, 9],\n",
    "       [6, 8, 4, 3]])\n",
    "\n",
    "\n",
    "#On the other hand, copying an array in NumPy creates a new array object with its own separate data buffer. Any modifications made to the copied array do not affect the original array, and vice versa. \n",
    "x2_sub_copy = x2[:2, :2].copy()\n",
    "\n",
    "#Reshaping of arrays \n",
    "In [69]: grid = np.arange(0, 10)\n",
    "\n",
    "In [70]: grid\n",
    "Out[70]: array([0, 1, 2, 3, 4, 5, 6, 7, 8, 9])\n",
    "\n",
    "In [72]: grid = grid.reshape(2,5)\n",
    "\n",
    "In [73]: grid\n",
    "Out[73]:\n",
    "array([[0, 1, 2, 3, 4],\n",
    "       [5, 6, 7, 8, 9]])"
   ]
  }
 ],
 "metadata": {
  "kernelspec": {
   "display_name": "Python 3",
   "language": "python",
   "name": "python3"
  },
  "language_info": {
   "codemirror_mode": {
    "name": "ipython",
    "version": 3
   },
   "file_extension": ".py",
   "mimetype": "text/x-python",
   "name": "python",
   "nbconvert_exporter": "python",
   "pygments_lexer": "ipython3",
   "version": "3.12.3"
  }
 },
 "nbformat": 4,
 "nbformat_minor": 2
}
