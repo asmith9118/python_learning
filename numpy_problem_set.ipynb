{
 "cells": [
  {
   "cell_type": "markdown",
   "metadata": {},
   "source": [
    "#### Array Creation\n",
    "1. Create a 1D NumPy array with values [10, 20, 30, 40, 50].\n",
    "2. Create a 2D array with the shape (3, 4) filled with the number 7.\n",
    "3. Generate an array with a linear sequence from 5 to 25 with a step size of 5.\n",
    "4. Create a 3x3 array of random floats between 0 and 1."
   ]
  },
  {
   "cell_type": "code",
   "execution_count": 6,
   "metadata": {},
   "outputs": [],
   "source": [
    "import matplotlib.pyplot as plt\n",
    "import pandas as pd\n",
    "import numpy as np"
   ]
  },
  {
   "cell_type": "code",
   "execution_count": 14,
   "metadata": {},
   "outputs": [
    {
     "name": "stdout",
     "output_type": "stream",
     "text": [
      "[10 20 30 40 50]\n",
      "[[7 7 7 7]\n",
      " [7 7 7 7]\n",
      " [7 7 7 7]]\n",
      "[ 5. 10. 15. 20. 25.]\n",
      "[[0.9305645  0.53186335 0.39198556]\n",
      " [0.6185229  0.8893854  0.28572376]\n",
      " [0.34473243 0.76039834 0.04961135]]\n"
     ]
    }
   ],
   "source": [
    "#Create a 1D NumPy array with values [10, 20, 30, 40, 50]\n",
    "array = np.array([10, 20, 30, 40, 50])\n",
    "print(array)\n",
    "\n",
    "#Create a 2D array with the shape (3, 4) filled with the number 7.\n",
    "array2D = np.full((3,4), 7)\n",
    "print(array2D)\n",
    "\n",
    "#Generate an array with a linear sequence from 5 to 25 with a step size of 5.\n",
    "lineararray = np.linspace(5, 25, 5)\n",
    "print(lineararray)\n",
    "\n",
    "#Create a 3x3 array of random floats between 0 and 1.\n",
    "arrayfloat = np.random.random((3,3))\n",
    "print(arrayfloat)"
   ]
  },
  {
   "cell_type": "markdown",
   "metadata": {},
   "source": [
    "#### Attributes of Arrays\n",
    "5. Define a 2D array with shape (2, 3). What are its `shape`, `ndim`, and `size` attributes?\n",
    "6. If an array has `shape = (4, 5)` and each element occupies 8 bytes, calculate the total size in bytes."
   ]
  },
  {
   "cell_type": "code",
   "execution_count": null,
   "metadata": {},
   "outputs": [
    {
     "name": "stdout",
     "output_type": "stream",
     "text": [
      "Shape:  (2, 3)\n",
      "Dimensions:  (2, 3)\n",
      "Size:  6\n"
     ]
    }
   ],
   "source": [
    "#### Attributes of Arrays\n",
    "\n",
    "# Define a 2D array with shape (2, 3). What are its `shape`, `ndim`, and `size` attributes?\n",
    "array2D = np.random.randint(0, 10, (2,3))\n",
    "print('Shape: ', array2D.shape)\n",
    "print('Dimensions: ', array2D.shape)\n",
    "print('Size: ', array2D.size)\n",
    "\n",
    "# If an array has `shape = (4, 5)` and each element occupies 8 bytes, calculate the total size in bytes.\n",
    "\n"
   ]
  },
  {
   "cell_type": "markdown",
   "metadata": {},
   "source": [
    "To calculate the total size in bytes of a NumPy array, we use the following formula:\n",
    "\n",
    "$$\n",
    "\\text{Total size in bytes} = \\text{Number of elements} \\times \\text{Bytes per element}\n",
    "$$\n",
    "\n",
    "### Given:\n",
    "- The shape of the array is `(4, 5)`, which means the array has 4 rows and 5 columns.\n",
    "  - Number of elements in the array = \\( 4 \\times 5 = 20 \\)\n",
    "  \n",
    "- Each element occupies 8 bytes.\n",
    "\n",
    "### Calculation:\n",
    "\n",
    "$$\n",
    "\\text{Total size in bytes} = 20 \\times 8 = 160 \\, \\text{bytes}\n",
    "$$\n",
    "\n",
    "Thus, the total size of the array in bytes is **160 bytes**.\n",
    "\n",
    "### Explanation:\n",
    "- The shape `(4, 5)` indicates there are 4 rows and 5 columns, making 20 total elements.\n",
    "- Since each element occupies 8 bytes, multiplying the total number of elements by 8 gives the total size in bytes.\n"
   ]
  },
  {
   "cell_type": "markdown",
   "metadata": {},
   "source": [
    "#### Indexing and Slicing\n",
    "7. Extract the first three elements from the array `[4, 8, 12, 16, 20]`.\n",
    "8. From the 2D array `[[1, 2, 3], [4, 5, 6], [7, 8, 9]]`, extract the first two rows and the last column.\n",
    "9. Reverse the array `[1, 2, 3, 4, 5]`.\n",
    "10. Extract every second column from the array `[[10, 20, 30], [40, 50, 60], [70, 80, 90]]`."
   ]
  },
  {
   "cell_type": "code",
   "execution_count": 27,
   "metadata": {},
   "outputs": [
    {
     "name": "stdout",
     "output_type": "stream",
     "text": [
      "[3 6]\n",
      "[[10 20 30]\n",
      " [70 80 90]]\n"
     ]
    }
   ],
   "source": [
    "#Extract the first three elements from the array `[4, 8, 12, 16, 20]`\n",
    "array = [4, 8, 12, 16, 20]\n",
    "#print(array[:3])\n",
    "\n",
    "#From the 2D array `[[1, 2, 3], [4, 5, 6], [7, 8, 9]]`, extract the first two rows and the last column.\n",
    "array2D = np.array([[1, 2, 3], [4, 5, 6], [7, 8, 9]])\n",
    "#print(array2D)\n",
    "array2D_sorted = array2D[:2, -1]\n",
    "#array2D_sorted = array2D[:-1]\n",
    "print(array2D_sorted)\n",
    "\n",
    "#Reverse the array `[1, 2, 3, 4, 5]`.\n",
    "array = np.array([1, 2, 3, 4, 5])\n",
    "array_reversed = array[::-1]\n",
    "#print(array_reversed)\n",
    "\n",
    "#Extract every second column from the array `[[10, 20, 30], [40, 50, 60], [70, 80, 90]]\n",
    "array = np.array([[10, 20, 30], [40, 50, 60], [70, 80, 90]])\n",
    "array_second = array[::2]\n",
    "print(array_second)"
   ]
  }
 ],
 "metadata": {
  "kernelspec": {
   "display_name": "Python 3",
   "language": "python",
   "name": "python3"
  },
  "language_info": {
   "codemirror_mode": {
    "name": "ipython",
    "version": 3
   },
   "file_extension": ".py",
   "mimetype": "text/x-python",
   "name": "python",
   "nbconvert_exporter": "python",
   "pygments_lexer": "ipython3",
   "version": "3.10.13"
  }
 },
 "nbformat": 4,
 "nbformat_minor": 2
}
