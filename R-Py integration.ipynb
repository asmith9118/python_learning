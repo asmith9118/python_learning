{
 "cells": [
  {
   "cell_type": "code",
   "execution_count": 6,
   "id": "9b9fc7e3-df95-425d-91ee-47001a5c3232",
   "metadata": {},
   "outputs": [
    {
     "name": "stdout",
     "output_type": "stream",
     "text": [
      "This is a Python code cell\n"
     ]
    }
   ],
   "source": [
    "%reload_ext rpy2.ipython\n",
    "\n",
    "print(\"This is a Python code cell\")\n",
    "\n"
   ]
  },
  {
   "cell_type": "code",
   "execution_count": 7,
   "id": "2d621824-8ea8-4316-929c-e9ab26c46b56",
   "metadata": {},
   "outputs": [
    {
     "name": "stdout",
     "output_type": "stream",
     "text": [
      "[1] 1 2 3 4 5\n"
     ]
    },
    {
     "data": {
      "text/plain": [
       "1\n"
      ]
     },
     "metadata": {},
     "output_type": "display_data"
    }
   ],
   "source": [
    "%%R\n",
    "message(2/2)\n",
    "x <- c(1, 2, 3, 4, 5)\n",
    "print(x)"
   ]
  },
  {
   "cell_type": "code",
   "execution_count": null,
   "id": "11ece3e1-8f05-4500-b8e0-0e316965ce3f",
   "metadata": {},
   "outputs": [],
   "source": []
  }
 ],
 "metadata": {
  "kernelspec": {
   "display_name": "rpy",
   "language": "python",
   "name": "rpy"
  },
  "language_info": {
   "codemirror_mode": {
    "name": "ipython",
    "version": 3
   },
   "file_extension": ".py",
   "mimetype": "text/x-python",
   "name": "python",
   "nbconvert_exporter": "python",
   "pygments_lexer": "ipython3",
   "version": "3.10.13"
  }
 },
 "nbformat": 4,
 "nbformat_minor": 5
}
