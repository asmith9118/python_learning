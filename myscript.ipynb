{
 "cells": [
  {
   "cell_type": "code",
   "execution_count": 2,
   "id": "307f2f30-c0df-4219-ae0f-40c2edce8641",
   "metadata": {},
   "outputs": [],
   "source": [
    "def square(x):\n",
    "    \"\"\"square a number\"\"\"\n",
    "    return x ** 2 "
   ]
  },
  {
   "cell_type": "code",
   "execution_count": 3,
   "id": "e8f73827-55d1-4e4f-a9b3-7a1b1b371d34",
   "metadata": {},
   "outputs": [
    {
     "name": "stdout",
     "output_type": "stream",
     "text": [
      "1 squared is 1\n",
      "2 squared is 4\n",
      "3 squared is 9\n"
     ]
    }
   ],
   "source": [
    "for N in range(1,4): \n",
    "    print(f\"{N} squared is {square(N)}\") "
   ]
  },
  {
   "cell_type": "code",
   "execution_count": null,
   "id": "070460aa-54a5-4f82-b7c4-e428982f97b0",
   "metadata": {},
   "outputs": [],
   "source": []
  }
 ],
 "metadata": {
  "kernelspec": {
   "display_name": "Python 3 (ipykernel)",
   "language": "python",
   "name": "python3"
  },
  "language_info": {
   "codemirror_mode": {
    "name": "ipython",
    "version": 3
   },
   "file_extension": ".py",
   "mimetype": "text/x-python",
   "name": "python",
   "nbconvert_exporter": "python",
   "pygments_lexer": "ipython3",
   "version": "3.12.3"
  }
 },
 "nbformat": 4,
 "nbformat_minor": 5
}
